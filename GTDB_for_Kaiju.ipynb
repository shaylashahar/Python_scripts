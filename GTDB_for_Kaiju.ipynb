{
 "cells": [
  {
   "cell_type": "markdown",
   "id": "20498236",
   "metadata": {},
   "source": [
    "# Preparing GTDB files to use Kaiju \n",
    "\n",
    "Steps:\n",
    "1) Download protein sequence data \n",
    "2) Convert files into FASTA format \n",
    "3) Run Kaiju "
   ]
  },
  {
   "cell_type": "markdown",
   "id": "ba7f64ba",
   "metadata": {},
   "source": [
    "# Step 1\n",
    "\n",
    "GTDB's main website: https://gtdb.ecogenomic.org/ \n",
    "Protein sequences retrieved from: https://data.gtdb.ecogenomic.org/releases/latest/genomic_files_reps/\n",
    "data in \"gtdb_proteins_aa_reps.tar.gz\""
   ]
  },
  {
   "cell_type": "markdown",
   "id": "8cea3433",
   "metadata": {},
   "source": [
    "# Step 2\n",
    "Current formatting for GTDB is as follows:\n",
    ">Accession#1.1 | more_info_about_species\n",
    "AYKMQFHEGTGNPRQIHGCDSKLATVEGHAVIAWLACYWAGI\n",
    ">Accession#1.2 | more_info_about_species\n",
    "GIQRTVDHCQATWLPMIHFCAKWLAQPIGTVWIGM\n",
    "\n",
    "But, kiaju-makedb requires FASTA format as follows: \n",
    ">TaxID \n",
    "AYKMQFHEGTGNPRQIHGCDSKLATVEGHAVIAWLACYWAGI\n",
    ">TaxID\n",
    "GIQRTVDHCQATWLPMIHFCAKWLAQPIGTVWIGM\n",
    "\n",
    "The next two chunks re-format the database to FASTA format"
   ]
  },
  {
   "cell_type": "code",
   "execution_count": null,
   "id": "6e2376bd",
   "metadata": {},
   "outputs": [],
   "source": [
    "#This program loops through bacteria files, takes first acc#, finds tax ID,\n",
    "# and outputs file with tax ID and protein sequence \n",
    "\n",
    "import os\n",
    "import subprocess\n",
    "from subprocess import check_output\n",
    "\n",
    "directory = \"./bacteria\" \n",
    "fout=open(\"proteinsFIRST.faa\", \"w\")\n",
    "for file in os.listdir(directory): #loop through files\n",
    "    with open(\"./bacteria/\" + file) as f:\n",
    "        contents = f.readlines() #read lines in each file \n",
    "        first = contents[0].strip()\n",
    "        per=first.find(\".\")\n",
    "        acc= first[1:per] #variable for accession number \n",
    "        #taxid uses subprocess to run cli command from python script \n",
    "        taxid = subprocess.check_output(f'efetch -db nuccore -id {acc} -format docsum | xtract -pattern DocumentSummary -element TaxId', shell=True)\n",
    "        taxid = taxid.decode('utf-8')\n",
    "        for line in contents:\n",
    "            #writes new file with taxid and sequence \n",
    "            if line.startswith(\">\"):\n",
    "                fout.write(\">\" + str(taxid))\n",
    "            else:\n",
    "                fout.write(line)"
   ]
  },
  {
   "cell_type": "code",
   "execution_count": null,
   "id": "053437fb",
   "metadata": {},
   "outputs": [],
   "source": [
    "## this program loops through the fasta file and removes sequences with missing\n",
    "## tax ids\n",
    "\n",
    "import os\n",
    "keepopen = False \n",
    "\n",
    "f1 = open('./proteinsFIRST.faa', 'r')\n",
    "f2 = open('./proteins.faa', 'w')\n",
    "for line in f1:\n",
    "    if line.startswith(\">\"):\n",
    "        line.split()\n",
    "        if line[1].isdigit():\n",
    "            keepopen = True\n",
    "            f2.write(line)\n",
    "        else:\n",
    "            keepopen = False\n",
    "    elif keepopen == True:\n",
    "        f2.write(line)"
   ]
  },
  {
   "cell_type": "markdown",
   "id": "2740463a",
   "metadata": {},
   "source": [
    "# Step 3\n",
    "Follow instructions to create .fmi file and run Kaiju from: \n",
    "https://github.com/bioinformatics-centre/kaiju\n"
   ]
  },
  {
   "cell_type": "code",
   "execution_count": null,
   "id": "5029fb3b",
   "metadata": {},
   "outputs": [],
   "source": [
    "kaiju-mkbwt -n 5 -a ACDEFGHIKLMNPQRSTVWY -o proteins proteins.faa\n",
    "kaiju-mkfmi proteins"
   ]
  },
  {
   "cell_type": "markdown",
   "id": "b6e135e8",
   "metadata": {},
   "source": [
    "# Step 4\n",
    "Running Kaiju. The following instructions are from Kaiju's website "
   ]
  },
  {
   "cell_type": "code",
   "execution_count": null,
   "id": "492f0a28",
   "metadata": {},
   "outputs": [],
   "source": [
    "kaiju -z 25 -t path/to/nodes.dmp -f path/to/proteins.fmi -i path/to/inputfile.fastq -o kaiju.out"
   ]
  }
 ],
 "metadata": {
  "kernelspec": {
   "display_name": "Python 3 (ipykernel)",
   "language": "python",
   "name": "python3"
  },
  "language_info": {
   "codemirror_mode": {
    "name": "ipython",
    "version": 3
   },
   "file_extension": ".py",
   "mimetype": "text/x-python",
   "name": "python",
   "nbconvert_exporter": "python",
   "pygments_lexer": "ipython3",
   "version": "3.9.7"
  }
 },
 "nbformat": 4,
 "nbformat_minor": 5
}
